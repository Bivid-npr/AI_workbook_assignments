{
 "cells": [
  {
   "cell_type": "markdown",
   "metadata": {},
   "source": [
    "<div class=\"alert alert-block alert-info\" style=\"color:black\"> <h2>Activity 5: Investigate the time and space (memory) requirements of your two methods</h2>\n",
    "    You should now have working versions of both breadth-first and (restricted) depth-first search. They already store the number of attempts tested (a measure of runtime), and the code cells that run them print that value out.<br>\n",
    "    The next step is to compare memory - which is proportional to the maximum size of the open list. \n",
    "    <br><br><b>How to get started:</b> Edit your code for both classes:\n",
    "    <ol>\n",
    "    <li> Copy-paste <code>update_working_memory()</code> into your <code>BreadthFirstSearch</code> class</li>\n",
    "    <li> In both your classes add a new parameter <code>self.max_memory</code> with a default value 0 by over-riding the <code>__init__()</code> method of the super class.</ul>\n",
    "    <li> Override <code>update_working_memory()</code> in both your classes, adding code to:\n",
    "        <ul>\n",
    "            <li>check the length of the open_list against <code>self.max_memory</code></li>\n",
    "            <li> update the value of <code>self.max_memory</code> if the open list has increased in size.</li>\n",
    "        </ul>\n",
    "    <li> Copy-paste the testing code from the cells above, then adapt it to test the time and memory needs of your algorithms.</li> \n",
    "    </ol>\n",
    "    <b>Note:</b> this is a <em>Stretch</em> activity so don't worry if you can't complete it easily.\n",
    "</div>"
   ]
  },
  {
   "cell_type": "code",
   "execution_count": 29,
   "metadata": {},
   "outputs": [],
   "source": [
    "# ====> insert your code here\n",
    "import sys, os\n",
    "\n",
    "sys.path.append('../common')\n",
    "from problem import Problem\n",
    "from candidatesolution import CandidateSolution\n",
    "from singlemembersearch import SingleMemberSearch\n",
    "from foxchickengrain import FoxChickenGrain\n",
    "\n",
    "class DepthFirstSearch(SingleMemberSearch):\n",
    "    def __str__(self):\n",
    "        return \"depth-first\"\n",
    "\n",
    "    def select_and_move_from_openlist(self) -> CandidateSolution:\n",
    "        next_soln = CandidateSolution()\n",
    "\n",
    "        my_index = len(self.open_list) - 1\n",
    "\n",
    "        next_soln = self.open_list[my_index]\n",
    "\n",
    "        del self.open_list[my_index]\n",
    "    \n",
    "        return next_soln\n",
    "\n",
    "\n",
    "    def __init__(\n",
    "        self,\n",
    "        problem: Problem,\n",
    "        constructive: bool = False,\n",
    "        max_attempts: int = 50,\n",
    "        minimise=True,\n",
    "        target_quality=1,\n",
    "        max_memory = 10,\n",
    "    ):\n",
    "        super().__init__( \n",
    "            problem,\n",
    "            constructive,\n",
    "            max_attempts,\n",
    "            minimise,\n",
    "            target_quality,\n",
    "        )\n",
    "        self.max_memory = max_memory\n",
    "       \n",
    "    \n",
    "    def update_working_memory(self, neighbour: CandidateSolution,reason:str):\n",
    "  \n",
    "        if neighbour.quality == self.target_quality:\n",
    "            self.result = neighbour.variable_values\n",
    "            self.solved = True\n",
    "\n",
    "        elif reason != \"\":\n",
    "            self.runlog += (\n",
    "                f\"discarding invalid solution {neighbour.variable_values} \"\n",
    "                f\"because    {reason}\\n\"\n",
    "            )\n",
    "            # PS AppendToClosedList(neighbour)\n",
    "            self.closed_list.append(neighbour)\n",
    "\n",
    "        else:\n",
    "            self.runlog += (\n",
    "                \"adding solution to openlist\"\n",
    "                f\": to examine later: {neighbour.variable_values}\\t\"\n",
    "                f\" quality {neighbour.quality}\\n\"\n",
    "            )\n",
    "            self.open_list.append(neighbour)\n",
    "        \n",
    "        if len(self.open_list) > self.max_memory:\n",
    "            self.max_memory = len(self.open_list)"
   ]
  },
  {
   "cell_type": "code",
   "execution_count": 30,
   "metadata": {},
   "outputs": [],
   "source": [
    "# ====> insert your code here\n",
    "import sys, os\n",
    "\n",
    "sys.path.append('../common')\n",
    "from problem import Problem\n",
    "from candidatesolution import CandidateSolution\n",
    "from singlemembersearch import SingleMemberSearch\n",
    "from foxchickengrain import FoxChickenGrain\n",
    "\n",
    "class BreadthFirstSearch(SingleMemberSearch):\n",
    "    def __str__(self):\n",
    "        return \"depth-first\"\n",
    "\n",
    "    def select_and_move_from_openlist(self) -> CandidateSolution:\n",
    "        next_soln = CandidateSolution()\n",
    "\n",
    "        my_index = 0\n",
    "\n",
    "        next_soln = self.open_list[my_index]\n",
    "\n",
    "        del self.open_list[my_index]\n",
    "    \n",
    "        return next_soln\n",
    "\n",
    "\n",
    "    def __init__(\n",
    "        self,\n",
    "        problem: Problem,\n",
    "        constructive: bool = False,\n",
    "        max_attempts: int = 50,\n",
    "        minimise=True,\n",
    "        target_quality=1,\n",
    "        max_memory = 10,\n",
    "    ):\n",
    "        super().__init__( \n",
    "            problem,\n",
    "            constructive,\n",
    "            max_attempts,\n",
    "            minimise,\n",
    "            target_quality,\n",
    "        )\n",
    "        self.max_memory = max_memory\n",
    "       \n",
    "    \n",
    "    def update_working_memory(self, neighbour: CandidateSolution,reason:str):\n",
    "  \n",
    "        if neighbour.quality == self.target_quality:\n",
    "            self.result = neighbour.variable_values\n",
    "            self.solved = True\n",
    "\n",
    "        elif reason != \"\":\n",
    "            self.runlog += (\n",
    "                f\"discarding invalid solution {neighbour.variable_values} \"\n",
    "                f\"because    {reason}\\n\"\n",
    "            )\n",
    "            # PS AppendToClosedList(neighbour)\n",
    "            self.closed_list.append(neighbour)\n",
    "\n",
    "        else:\n",
    "            self.runlog += (\n",
    "                \"adding solution to openlist\"\n",
    "                f\": to examine later: {neighbour.variable_values}\\t\"\n",
    "                f\" quality {neighbour.quality}\\n\"\n",
    "            )\n",
    "            self.open_list.append(neighbour)\n",
    "        \n",
    "        if len(self.open_list) > self.max_memory:\n",
    "            self.max_memory = len(self.open_list)"
   ]
  },
  {
   "cell_type": "code",
   "execution_count": 36,
   "metadata": {},
   "outputs": [
    {
     "name": "stdout",
     "output_type": "stream",
     "text": [
      "\n",
      " Using the algorithm depth-first\n",
      "\t Problem not solved in time allowed\n",
      "\n",
      " Using the algorithm depth-first\n",
      "\t Max memory usage: 59\n",
      "\t Solved after 404 attempts:\n",
      "\t Solution is->bc_01->b_10->bg_01->bc_10->bf_01->b_10->bc_01\n"
     ]
    }
   ],
   "source": [
    "#next line not necessary if you've run the cell above - but python  will ignore it\n",
    "from foxchickengrain import FoxChickenGrain\n",
    "\n",
    "# Create a FoxChickenGrain problem\n",
    "myproblem = FoxChickenGrain()\n",
    "\n",
    "# Create a depth-first and breadth-first search algorithm\n",
    "my_depth_search = DepthFirstSearch(myproblem, constructive=True, max_attempts=500, max_memory=10)\n",
    "my_breadth_search = BreadthFirstSearch(myproblem, constructive=True, max_attempts=500, max_memory=10)\n",
    "\n",
    "print_runlog = False  # you might want to turn this on for debugging\n",
    "\n",
    "for algorithm in (my_depth_search, my_breadth_search):\n",
    "    print(f\"\\n Using the algorithm {algorithm.__str__()}\")\n",
    "    found = algorithm.run_search()\n",
    "    if found:\n",
    "        print(\n",
    "            f\"\\t Max memory usage: {algorithm.max_memory}\\n\"\n",
    "            f\"\\t Solved after {algorithm.trials} attempts:\\n\"\n",
    "            f\"\\t Solution is{myproblem.display(algorithm.result)}\"\n",
    "        )\n",
    "    else:\n",
    "        print(\"\\t Problem not solved in time allowed\")\n",
    "        if print_runlog:\n",
    "            print(algorithm.runlog)"
   ]
  },
  {
   "cell_type": "code",
   "execution_count": 32,
   "metadata": {},
   "outputs": [
    {
     "data": {
      "application/vnd.jupyter.widget-view+json": {
       "model_id": "2d61f0e7b32d4e37b6b456dc95009457",
       "version_major": 2,
       "version_minor": 0
      },
      "text/plain": [
       "VBox(children=(Output(), RadioButtons(layout=Layout(height='auto', width='auto'), options=(('yes', 0), ('no', …"
      ]
     },
     "metadata": {},
     "output_type": "display_data"
    },
    {
     "data": {
      "application/vnd.jupyter.widget-view+json": {
       "model_id": "311c19640f5f4b2b925b75486464b404",
       "version_major": 2,
       "version_minor": 0
      },
      "text/plain": [
       "VBox(children=(Output(), RadioButtons(layout=Layout(height='auto', width='auto'), options=(('yes', 0), ('no', …"
      ]
     },
     "metadata": {},
     "output_type": "display_data"
    }
   ],
   "source": [
    "import workbook2_utils as wb2\n",
    "display(wb2.q12)\n",
    "display(wb2.q13)"
   ]
  }
 ],
 "metadata": {
  "kernelspec": {
   "display_name": "Python 3",
   "language": "python",
   "name": "python3"
  },
  "language_info": {
   "codemirror_mode": {
    "name": "ipython",
    "version": 3
   },
   "file_extension": ".py",
   "mimetype": "text/x-python",
   "name": "python",
   "nbconvert_exporter": "python",
   "pygments_lexer": "ipython3",
   "version": "3.12.4"
  }
 },
 "nbformat": 4,
 "nbformat_minor": 2
}
