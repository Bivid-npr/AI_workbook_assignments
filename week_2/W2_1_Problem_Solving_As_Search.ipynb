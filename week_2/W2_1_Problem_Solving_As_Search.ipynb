{
 "cells": [
  {
   "cell_type": "markdown",
   "metadata": {
    "slideshow": {
     "slide_type": "slide"
    }
   },
   "source": [
    "# Topic 1: Search Algorithms\n",
    "## Problem Solving as Search\n",
    "## Artificial Intelligence 1, Week 2, Part1\n",
    "\n"
   ]
  },
  {
   "cell_type": "markdown",
   "metadata": {
    "slideshow": {
     "slide_type": "slide"
    }
   },
   "source": [
    "## This Week\n",
    "### Lecture:\n",
    "- Recap of input-model-output \n",
    "- Problem solving as search through space of  representations of candidate solutions\n",
    "- Landscapes, properties of search spaces\n",
    "- A common framework for single member search"
   ]
  },
  {
   "cell_type": "markdown",
   "metadata": {
    "slideshow": {
     "slide_type": "slide"
    }
   },
   "source": [
    "## Learning Outcomes\n",
    "- Recognise and characterise Problem solving as search\n",
    "- Formulate problems via representations of candidate solutions allowing the use of standard algorithms, search on a graph \n",
    "- Able to characterise properties of search algorithms"
   ]
  },
  {
   "cell_type": "markdown",
   "metadata": {
    "slideshow": {
     "slide_type": "slide"
    }
   },
   "source": [
    "# Recap\n",
    "(parts of) computers do things in a sequence\n",
    "\n",
    "<div >\n",
    "<div style=\"float:left; width: 25%;\">\n",
    "    <h3>Input</h3> \n",
    "    <ul>\n",
    "        <li>keyboard</li>\n",
    "        <li> mouse</li>\n",
    "        <li> joystick</li>\n",
    "        <li> camera</li>\n",
    "        <li>microphone</li>\n",
    "        <li><b> another computer or programme</b></li>\n",
    "     </ul>\n",
    "  </div>\n",
    " \n",
    "    \n",
    " <div style = \"float:left;width:5%\">\n",
    " <br><br><br>   <span style='font-size:50px;'>&#8680;</span>\n",
    " </div>\n",
    "    \n",
    "<div  style=\"float:left; width:30%;background:lightblue;color:black\">\n",
    "    <h3>Model</h3>\n",
    "    <p>of a process or part of the world</p>\n",
    "    <ul>\n",
    "        <li>designed by a person</li>\n",
    "        <li> or learned by an algorithm</li>\n",
    "    </ul>\n",
    "</div>\n",
    "\n",
    "<div style = \"float:left;width:5%\">\n",
    " <br><br><br>   <span style='font-size:50px;'>&#8680;</span>\n",
    "</div>\n",
    "\n",
    " <div style=\"float:left; width:25%\">\n",
    "    <h3>Output</h3> \n",
    "    <ul>\n",
    "        <li>screen</li>\n",
    "        <li> motor</li>\n",
    "        <li>loudspeaker</li>\n",
    "        <li><b> another computer or programme</b></li>\n",
    "     </ul>\n",
    "</div>\n",
    "<br style=\"clear:left;\"/>        \n",
    " </div>"
   ]
  },
  {
   "cell_type": "markdown",
   "metadata": {
    "slideshow": {
     "slide_type": "slide"
    }
   },
   "source": [
    "## Problem Solving <=> what we do if one of the three parts is missing.\n",
    "recognise from different types of questions\n",
    "\n",
    "<div >\n",
    "<div style=\"float:left; width: 30%;\">\n",
    "    <h3>Input</h3> \n",
    "    <ul>\n",
    "        <li>how do I?</li>\n",
    "        <li> what's the best/<br>quickest/...?</li>\n",
    "     </ul>\n",
    "  </div>\n",
    "\n",
    " <div style = \"float:left;width:5%\">\n",
    "<br> <br>.\n",
    " </div>\n",
    "\n",
    "    \n",
    "    \n",
    "<div style=\"float:left; width:30%;background:lightblue;color:black\">\n",
    "    <h3>Model</h3>\n",
    "    <ul>\n",
    "        <li>how does X relate to Y?</li>\n",
    "        <li>how do these symptoms link to diagnosis?</li>\n",
    "    </ul>\n",
    "</div>\n",
    "\n",
    "<div style = \"float:left;width:5%\">\n",
    "<br> <br>.\n",
    " </div>\n",
    "    \n",
    " <div style=\"float:left; width:30%\">\n",
    "  <h3>Output</h3> \n",
    "    <ul>\n",
    "        <li>who/what is this?</li>\n",
    "        <li> what will happen if ...?</li>\n",
    "        <li>what will the ... be tomorrow?</li>\n",
    "     </ul>\n",
    "</div>\n",
    "<br style=\"clear:left;\"/>        \n",
    " </div>"
   ]
  },
  {
   "cell_type": "markdown",
   "metadata": {
    "slideshow": {
     "slide_type": "slide"
    }
   },
   "source": [
    "## _What's missing?_ => 3 types of problem\n",
    "\n",
    "<div >\n",
    "<div style=\"float:left; width: 30%;border:2px\">\n",
    "    <h3>Optimisation</h3>\n",
    "    <p><b>Given</b></p>\n",
    "    <ul>\n",
    "        <li>A model of the situation</li>\n",
    "        <li>Some constraints about the output</li>\n",
    "     </ul><br>\n",
    "    <p><b>Find</b> the  inputs that produce the desired output.\n",
    "    <br>Sometimes called <b><i>planning</i></b></p>\n",
    "  </div>\n",
    " \n",
    "<div style = \"float:left;width:5%\">\n",
    "<br> <br>.<br>\n",
    " </div>\n",
    "    \n",
    "<div  style=\"float:left; width:30%;background:lightblue;color:black\">\n",
    "    <h3>Modelling</h3>\n",
    "    <p><b>Given</b>:</p>\n",
    "    <ul>\n",
    "        <li> A set of inputs (examples)</li>\n",
    "        <li> corresponding outputs/labels</li>\n",
    "       </ul>\n",
    "    <p><b>Find</b> the model that:</p>\n",
    "       <ul>\n",
    "        <li>Maps the known inputs onto their outputs</li>\n",
    "           <li> And generalises to new cases</li>\n",
    "       </ul>\n",
    "</div>\n",
    "\n",
    "\n",
    " <div style = \"float:left;width:5%\">\n",
    "<br> <br>.\n",
    " </div>\n",
    "\n",
    "\n",
    " <div style=\"float:left; width:30%\">\n",
    "  <h3>Prediction</h3> \n",
    "     <p><b>Given</b>:</p>\n",
    "    <ul>\n",
    "        <li>a model of the situation / process</li>\n",
    "        <li> some inputs</li>\n",
    "     </ul>\n",
    "     <p><b>Find</b> the correct output (prediction)</p>\n",
    "</div>\n",
    "<br style=\"clear:left;\"/>        \n",
    " </div>\n",
    " "
   ]
  },
  {
   "cell_type": "markdown",
   "metadata": {
    "slideshow": {
     "slide_type": "slide"
    }
   },
   "source": [
    " # Big Idea of the day 1:\n",
    " ## All of these  are searching through a set of possible solutions for the best one"
   ]
  },
  {
   "cell_type": "markdown",
   "metadata": {
    "slideshow": {
     "slide_type": "slide"
    }
   },
   "source": [
    "## How to Formulate Problems As Search\n",
    "\n",
    "### Step 1: What variables are needed to define any possible solution?  \n",
    "   and what values they can take. For example,\n",
    "<div style=\"float:left\" width=50%>\n",
    " <p>Sequence of moves/actions:<br>\n",
    "     e.g. {left,forward,right,back}</p>\n",
    "    <img width=90% src= \"figures/maze.png\"/>\n",
    "</div>\n",
    "<div style=\"float:right\" width=50%>\n",
    " <p> Set of design variables <br>\n",
    "     e.g. floating point weights for neural network</p>\n",
    "     <img style=\"float:centre\" width=90% src=\"figures/ANN.png\"/>\n",
    "    </div>"
   ]
  },
  {
   "cell_type": "markdown",
   "metadata": {
    "slideshow": {
     "slide_type": "slide"
    }
   },
   "source": [
    "### Step 2: Decide if all solutions have the same complexity or not  \n",
    "  or alternatively,  \n",
    "  \n",
    "  **How many decisions do you need to make to specify a solution?**  \n",
    "  \n",
    "\n",
    "- could be fixed number: \n",
    "  - combination lock, \n",
    "  - weights for a given neural network architecture\n",
    "- or not: \n",
    "  - route, \n",
    "  - series of rules for simple robot, "
   ]
  },
  {
   "cell_type": "markdown",
   "metadata": {
    "slideshow": {
     "slide_type": "slide"
    }
   },
   "source": [
    "### In code this looks like two classes:\n",
    "\n",
    "A Problem () : instances of the same type of Problem share code but have different constants/parameters\n",
    "- e.g. cities and positions (Travelling SalesPersonSP),  training data (Machine Learning) , etc.\n",
    "``` \n",
    "class Problem:  \n",
    "        self.value_set: List\n",
    "        def evaluate(attempt:CandidateSolution)->float|int:\n",
    "            ...\n",
    "           return quality\n",
    "\n",
    "        def meets_constraints(attempt:CandidateSolution)->bool:\n",
    "            ...\n",
    "            return ok\n",
    "```    \n",
    "And then each individual solution is an **instance** of type CandidateSolution   \n",
    " - so has a different unique set of values for the variables   \n",
    "``` \n",
    "class CandidateSolution:\n",
    "        self.variable_values: List \n",
    "        self.quality:int\n",
    "```        "
   ]
  },
  {
   "cell_type": "markdown",
   "metadata": {
    "slideshow": {
     "slide_type": "slide"
    }
   },
   "source": [
    "### Step 3: Define operators to change solution to another\n",
    " - Same complexity: change some values  : **Perturbative Search**  \n",
    "   - *changing the time* of a class session in a timetable\n",
    "   - *updating weights* in a Neural Network as it learns :  \n",
    "\n",
    " - Different complexity: add/remove values: **Constructive Search**  \n",
    "   - *adding* an extra class to a timetable\n",
    "   - *growing* a decision tree by splitting nodes  \n",
    "   ![decision tree](figures/DT_on_iris_petals.png)"
   ]
  },
  {
   "cell_type": "markdown",
   "metadata": {
    "slideshow": {
     "slide_type": "slide"
    }
   },
   "source": [
    "## Quick quiz:\n",
    "\n",
    "- I feel confident that I could code up an algorithm to solve Sudoku [True : False]"
   ]
  },
  {
   "cell_type": "markdown",
   "metadata": {
    "slideshow": {
     "slide_type": "fragment"
    }
   },
   "source": [
    "- I feel it is worthwhile to code up a dedicated algorithm to solve Sudoku[True:False]"
   ]
  },
  {
   "cell_type": "markdown",
   "metadata": {
    "slideshow": {
     "slide_type": "slide"
    }
   },
   "source": [
    "# Big Idea of the day 2:\n",
    "##  Representation + Move operator => landscape\n",
    "\n",
    "If we know how we are allowed to (or have written code to) change solutions \n",
    "- Then we know how which are ‘neighbours’ at 1 step, 2 steps, … n steps\n",
    "- This defines a neighourhood structure\n",
    "- And turns our set  of solutions into a **landscape**.  \n",
    "  with an extra dimension for ‘quality of solution”\n",
    "  \n",
    "Because our brains are conditioned to moving around on the surface of the earth, this is a really useful metaphor\n",
    "- Point on the landscape  <=>  candidate solution.\n",
    "- Aim of search is to find the highest point, e.g. **maximise**( accuracy of machine learning model)\n",
    "  - or one that is “high enough” .\n",
    "  - Can always convert to equivalent minimisation problem:  **minimise**(error)\n",
    "- So **search = path through landscape**\n"
   ]
  },
  {
   "cell_type": "markdown",
   "metadata": {
    "slideshow": {
     "slide_type": "slide"
    }
   },
   "source": [
    "### Example 2-input perceptron learning the AND problem\n",
    "\n",
    "As we'll see in Topic. 2, Rosenblatt's *perceptron* became the basis for modern Artificial Neural Networks.\n",
    "- Inputs are passed through weighted connections which define perceptron's behaviour <img src=\"figures/Perceptron.png\" width=30% style=\"float:right\"/>\n",
    "- Perceptron starts with random weights, then we *train* to give desired outputs for a problem\n",
    "  - by repeatedly presenting an input\n",
    "  - changing the connection weights if the unit gives the wrong answer\n",
    "\n",
    "The 3-D plot below shows the paths taken by 10 different runs of the algorithm on a simple problem.  \n",
    "The value of  weight<sub>1</sub> is on the x-axis,  \n",
    "The value of weight<sub>2</sub> is on the z-axis,  \n",
    "The number of errors is on the y-axis\n"
   ]
  },
  {
   "cell_type": "code",
   "execution_count": 1,
   "metadata": {
    "slideshow": {
     "slide_type": "slide"
    },
    "tags": []
   },
   "outputs": [
    {
     "data": {
      "image/png": "[encoded data removed]",
      "text/plain": [
       "<Figure size 600x600 with 1 Axes>"
      ]
     },
     "metadata": {},
     "output_type": "display_data"
    }
   ],
   "source": [
    "import workbook2_utils as utils\n",
    "\n",
    "utils.show_perceptron_landscape()"
   ]
  },
  {
   "cell_type": "markdown",
   "metadata": {
    "slideshow": {
     "slide_type": "slide"
    }
   },
   "source": [
    "## Continuous Search Spaces<img src=\"figures/3D-landscape.png\" style=\"float:right\" width=25%>\n",
    "Variables defining  solutions  are “real numbers”    \n",
    "  (floats/doubles)  \n",
    "Number of solutions limited by precision of coding  \n",
    "Can often apply mathematical techniques like  \n",
    "  differentiation, linear programming etc,  as long as:\n",
    "- the functions are not discontinuous (no cliffs)\n",
    "- there are not too many optima\n",
    "\n",
    "Natural sense of “distance” between solutions   \n",
    "Allows us to talk about \n",
    "  - **local optima**: points that are better than all their neighbours\n",
    "  - **global optima**: points that are at least as good as any other point"
   ]
  },
  {
   "cell_type": "markdown",
   "metadata": {
    "slideshow": {
     "slide_type": "slide"
    }
   },
   "source": [
    "## Combinatorial Search Spaces\n",
    "- Variables defining candidate solutions are:\n",
    "  - Binary / Boolean, \n",
    "  - Categorical labels (no natural order),\n",
    "  - Ordinal variables (e.g. integers),\n",
    "  - or permutations\n",
    "- **Countable** number of of solutions\n",
    "- Sometimes the problem definition will tell us how they can be connected, other times not.\n",
    "- Needs a different kind of search method, \n",
    "- especially if we want to prove that we have the “best” solution\n"
   ]
  },
  {
   "cell_type": "markdown",
   "metadata": {
    "slideshow": {
     "slide_type": "slide"
    }
   },
   "source": [
    "## Different ways of changing solutions ( move operators) create different  landscapes<img src=\"figures/chess-pieces.png\" style=\"float:right\">\n",
    "\n",
    "For some problems the structure is natural.\n",
    "\n",
    "But sometimes “local”  depends on how we move.\n",
    "\n",
    "E.g. neighbours of King, knight, bishop, rook in chess\n",
    "\n",
    "<img src=\"figures/chess-moves.png\" width = 80%>\n"
   ]
  },
  {
   "cell_type": "markdown",
   "metadata": {
    "slideshow": {
     "slide_type": "slide"
    }
   },
   "source": [
    "## Quiz 2:\n",
    "\n",
    "- A local optimum is better than all its neighbours? [True | False]\n",
    "- The global optimum is the same however you define the landscape [True | False]\n",
    "- A point that is locally optimal for one landscape, will still be if you change the move operator? [True| False]"
   ]
  },
  {
   "cell_type": "markdown",
   "metadata": {
    "slideshow": {
     "slide_type": "slide"
    }
   },
   "source": [
    "## Properties of Search Algorithms\n",
    "\n",
    "Ways of generating solutions would ideally be:\n",
    "\n",
    "<div style= \"float:left\" width=50% >  <h3>Complete</h3>  <img src=\"figures/complete.png\" width=200px></div>\n",
    "<div style=\"float:left\" width=50%>  <h3>Efficient</h3> <img src=\"figures/efficient.png\" width=200px></div>\n",
    "<div style= \"float:left\" width=50%>  <h3>Optimal</h3>   <img src=\"figures/optimal.png\" width=200px></div>\n"
   ]
  },
  {
   "cell_type": "markdown",
   "metadata": {
    "slideshow": {
     "slide_type": "slide"
    },
    "tags": []
   },
   "source": [
    "## Quiz: Starting from any given square, can a bishop  do a complete search of a chess board?"
   ]
  },
  {
   "cell_type": "markdown",
   "metadata": {
    "slideshow": {
     "slide_type": "slide"
    }
   },
   "source": [
    "# 3rd big idea of the day: \n",
    "## Search using a Generate-Test loop sampling neighbourhoods\n",
    "\n",
    "We define a *working memory* to store what we have found out about the problem instance we are solving.  \n",
    "It is often divided into:\n",
    "- *open list*:   candidate solutions we  might want to explore further,  \n",
    "  because they don't break constraints, so might have *good* neighbours\n",
    "- *closed list*: candidate solutions we've tested and don't want to revisit\n",
    "   because \n",
    "   - they break constraints so all their neighbours will\n",
    "   - or we've tested all their neighbours"
   ]
  },
  {
   "cell_type": "markdown",
   "metadata": {
    "slideshow": {
     "slide_type": "slide"
    }
   },
   "source": [
    "*Generate* samples the neighbourhoods of *promising* solutions:\n",
    "- picking something from the open list to explore\n",
    "- looping though (a sample of) it's neighbours\n",
    "   - by applying the *move operator*\n",
    "   - then testing each neighbour in turn\n",
    "\n",
    "The sample size is either:\n",
    "- the number of possible neighbours of a solution\n",
    "- or a fraction if the neighbourhood is to large   \n",
    "  for example, when the variables are continuous"
   ]
  },
  {
   "cell_type": "markdown",
   "metadata": {
    "slideshow": {
     "slide_type": "slide"
    }
   },
   "source": [
    "### Pseudo-code for generic single member search\n",
    "<div style=\"font-size:18pt\"> \n",
    "    <p style=\"font-size:18pt\"> \n",
    "    <b>Variables</b> open_list, closed_list: lists of candidate solutions <br>\n",
    "    <b>Variables</b> working_candidate,neighbour: candidate solutions <br>\n",
    "    </p>\n",
    "<div style=\"background:#E0FFE0\">\n",
    "<dl style=\"font-size:18pt\">\n",
    "    <dt>    <span style=\"color:darkred;font-size:18pt\"> <em>INITIALISE</em></span></dt>\n",
    "    <dd>   <b>Set</b> open_list, closed_list &larr; EmptyList </dd>  \n",
    "    <dd>   working_candidate &larr; <b>Initialise</b> (CandidateSolution) </dd> \n",
    "    <dd>   <b>Test</b> ( working_candidate)  &nbsp;&nbsp;&nbsp;&nbsp;&nbsp;&nbsp;<span style=\"color:red\"> <b>Problem</b>-specific code</span></dd>\n",
    "    <dd>   <b>AppendToOpenList</b>(working_candidate)<br>  </dd>\n",
    "</dl>\n",
    "</div>\n",
    "<div style=\"background:#F0FFFF;font-size:18pt\">\n",
    "<p style=\"color:darkred;font-size:18pt;margin-bottom:0pt\"><em>MAIN LOOP</em></p>\n",
    "<dl style=\"font-size:18pt;margin-top:0pt\">\n",
    "    <dt>&nbsp;&nbsp;&nbsp;<b>WHILE</b> IsNotEmpty( open_list) <b>DO</b> </dt>\n",
    "    <dd> working_candidate &larr; <b>SelectAndMoveFromOpenList</b>(algorithm_name)&nbsp;&nbsp;&nbsp;&nbsp;&nbsp;&nbsp;<span style=\"color:red\"> <b>Algorithm</b>-specific code</span></dd>\n",
    "    <dd>  <b>FOR</b> sample in SAMPLE_SIZE <b>DO</b> <br>\n",
    "        <dl style=\"font-size:18pt\">\n",
    "            <dt style=\"color:blue;font-style:italic\"> &nbsp;&nbsp;&nbsp;&nbsp;&nbsp;&nbsp;GENERATE </dt>\n",
    "            <dd>  neighbour &larr; <b>ApplyMoveOperator</b> (working_candidate)&nbsp;&nbsp;&nbsp;&nbsp;&nbsp;&nbsp;<span style=\"color:red\"> <b>Representation</b>-specific code</span></dd>\n",
    "            <dt style=\"color:blue;font-style:italic\">&nbsp;&nbsp;&nbsp;&nbsp;&nbsp;&nbsp;TEST</dt>\n",
    "            <dd> status &larr; <b>Test</b> ( neighbour)&nbsp;&nbsp;&nbsp;&nbsp;&nbsp;&nbsp;<span style=\"color:red\"> <b>Problem</b>-specific code</span></dd>\n",
    "            <dt style=\"color:blue;font-style:italic\"> &nbsp;&nbsp;&nbsp;&nbsp;&nbsp;&nbsp;UPDATE WORKING MEMORY</dt> \n",
    "            <dd> <b>IF</b> status IS AtGoal <b>THEN</b><br>\n",
    "                    &nbsp;&nbsp;&nbsp; <b>Return</b>(SUCCESS)</dd>\n",
    "            <dd> <b>ELSE IF</b> status IS BREAKS_CONSTRAINTS <b>THEN</b><br>\n",
    "                &nbsp;&nbsp;&nbsp; <b>AppendToClosedList</b>(neighbour)</dd>\n",
    "            <dd><b>ELSE</b><br>\n",
    "                &nbsp;&nbsp;&nbsp; <b>AppendToOpenList</b>(neighbour)</dd>\n",
    "        </dl>\n",
    "    <dd>          <b>AppendToClosedList</b>(workingCandidate)</dd>\n",
    "</dl>\n",
    "</div>    "
   ]
  },
  {
   "cell_type": "markdown",
   "metadata": {
    "slideshow": {
     "slide_type": "skip"
    }
   },
   "source": [
    "## Quiz: Properties of Exhaustive Search\n",
    "Exhaustive Search generates every possible solution to a problem.  \n",
    "Is this: \n",
    "- Complete?\n",
    "- Optimal?\n",
    "- Efficient?\n"
   ]
  },
  {
   "cell_type": "markdown",
   "metadata": {
    "slideshow": {
     "slide_type": "skip"
    }
   },
   "source": [
    "## Quiz: In which if these situations might optimality be less important than efficiency?\n",
    "\n",
    "- Speech recognition software for dictation\n",
    "- Fingerprint recognition in a biometric access system \n",
    "- Neither\n",
    "- Both\n"
   ]
  },
  {
   "cell_type": "markdown",
   "metadata": {
    "slideshow": {
     "slide_type": "slide"
    },
    "tags": []
   },
   "source": [
    "## Search summary\n",
    "To solve any problem on a computer we have to define a set of variables relating to the problem\n",
    "- **generating** candidate solution <=> Assigning values to variables \n",
    "  - usually by applying move operators to past solutions\n",
    "\n",
    "- **Testing** a candidate solution <=> decoding set of variables into something relevant to the problem and then try it out\n",
    "\n",
    "- **Move operators** \n",
    "   - can be **constructive** or **perturbative**\n",
    "   - define a landscape\n",
    "\n",
    "- Search Algorithms <=> move through a landscape to find best point\n",
    "  - might be one or more of **optimal**, **complete**, and **efficient**\n",
    "\n"
   ]
  }
 ],
 "metadata": {
  "celltoolbar": "Slideshow",
  "kernelspec": {
   "display_name": "Python 3",
   "language": "python",
   "name": "python3"
  },
  "language_info": {
   "codemirror_mode": {
    "name": "ipython",
    "version": 3
   },
   "file_extension": ".py",
   "mimetype": "text/x-python",
   "name": "python",
   "nbconvert_exporter": "python",
   "pygments_lexer": "ipython3",
   "version": "3.12.4"
  }
 },
 "nbformat": 4,
 "nbformat_minor": 4
}
